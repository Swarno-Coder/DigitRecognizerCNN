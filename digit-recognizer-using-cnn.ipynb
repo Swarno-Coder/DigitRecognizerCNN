{
 "cells": [
  {
   "cell_type": "code",
   "execution_count": 1,
   "id": "0be63b9e",
   "metadata": {
    "_cell_guid": "b1076dfc-b9ad-4769-8c92-a6c4dae69d19",
    "_uuid": "8f2839f25d086af736a60e9eeb907d3b93b6e0e5",
    "execution": {
     "iopub.execute_input": "2023-10-09T13:52:16.142393Z",
     "iopub.status.busy": "2023-10-09T13:52:16.141999Z",
     "iopub.status.idle": "2023-10-09T13:52:16.155477Z",
     "shell.execute_reply": "2023-10-09T13:52:16.154598Z"
    },
    "papermill": {
     "duration": 0.021121,
     "end_time": "2023-10-09T13:52:16.157175",
     "exception": false,
     "start_time": "2023-10-09T13:52:16.136054",
     "status": "completed"
    },
    "tags": []
   },
   "outputs": [
    {
     "data": {
      "text/plain": [
       "['/kaggle/input/digit-recognizer/sample_submission.csv',\n",
       " '/kaggle/input/digit-recognizer/train.csv',\n",
       " '/kaggle/input/digit-recognizer/test.csv']"
      ]
     },
     "execution_count": 1,
     "metadata": {},
     "output_type": "execute_result"
    }
   ],
   "source": [
    "# This Python 3 environment comes with many helpful analytics libraries installed\n",
    "# It is defined by the kaggle/python Docker image: https://github.com/kaggle/docker-python\n",
    "# For example, here's several helpful packages to load\n",
    "\n",
    "import numpy as np # linear algebra\n",
    "import pandas as pd # data processing, CSV file I/O (e.g. pd.read_csv)\n",
    "\n",
    "# Input data files are available in the read-only \"../input/\" directory\n",
    "# For example, running this (by clicking run or pressing Shift+Enter) will list all files under the input directory\n",
    "\n",
    "import os\n",
    "files = []\n",
    "for dirname, _, filenames in os.walk('/kaggle/input'):\n",
    "    for filename in filenames:\n",
    "        files.append(os.path.join(dirname, filename))\n",
    "files\n",
    "# You can write up to 20GB to the current directory (/kaggle/working/) that gets preserved as output when you create a version using \"Save & Run All\" \n",
    "# You can also write temporary files to /kaggle/temp/, but they won't be saved outside of the current session"
   ]
  },
  {
   "cell_type": "code",
   "execution_count": 2,
   "id": "ea39a496",
   "metadata": {
    "execution": {
     "iopub.execute_input": "2023-10-09T13:52:16.166222Z",
     "iopub.status.busy": "2023-10-09T13:52:16.165989Z",
     "iopub.status.idle": "2023-10-09T13:52:20.925230Z",
     "shell.execute_reply": "2023-10-09T13:52:20.924283Z"
    },
    "papermill": {
     "duration": 4.766999,
     "end_time": "2023-10-09T13:52:20.927924",
     "exception": false,
     "start_time": "2023-10-09T13:52:16.160925",
     "status": "completed"
    },
    "tags": []
   },
   "outputs": [
    {
     "data": {
      "text/plain": [
       "(   label  pixel0  pixel1  pixel2  pixel3  pixel4  pixel5  pixel6  pixel7  \\\n",
       " 0      1       0       0       0       0       0       0       0       0   \n",
       " 1      0       0       0       0       0       0       0       0       0   \n",
       " 2      1       0       0       0       0       0       0       0       0   \n",
       " 3      4       0       0       0       0       0       0       0       0   \n",
       " 4      0       0       0       0       0       0       0       0       0   \n",
       " \n",
       "    pixel8  ...  pixel774  pixel775  pixel776  pixel777  pixel778  pixel779  \\\n",
       " 0       0  ...         0         0         0         0         0         0   \n",
       " 1       0  ...         0         0         0         0         0         0   \n",
       " 2       0  ...         0         0         0         0         0         0   \n",
       " 3       0  ...         0         0         0         0         0         0   \n",
       " 4       0  ...         0         0         0         0         0         0   \n",
       " \n",
       "    pixel780  pixel781  pixel782  pixel783  \n",
       " 0         0         0         0         0  \n",
       " 1         0         0         0         0  \n",
       " 2         0         0         0         0  \n",
       " 3         0         0         0         0  \n",
       " 4         0         0         0         0  \n",
       " \n",
       " [5 rows x 785 columns],\n",
       "    pixel0  pixel1  pixel2  pixel3  pixel4  pixel5  pixel6  pixel7  pixel8  \\\n",
       " 0       0       0       0       0       0       0       0       0       0   \n",
       " 1       0       0       0       0       0       0       0       0       0   \n",
       " 2       0       0       0       0       0       0       0       0       0   \n",
       " 3       0       0       0       0       0       0       0       0       0   \n",
       " 4       0       0       0       0       0       0       0       0       0   \n",
       " \n",
       "    pixel9  ...  pixel774  pixel775  pixel776  pixel777  pixel778  pixel779  \\\n",
       " 0       0  ...         0         0         0         0         0         0   \n",
       " 1       0  ...         0         0         0         0         0         0   \n",
       " 2       0  ...         0         0         0         0         0         0   \n",
       " 3       0  ...         0         0         0         0         0         0   \n",
       " 4       0  ...         0         0         0         0         0         0   \n",
       " \n",
       "    pixel780  pixel781  pixel782  pixel783  \n",
       " 0         0         0         0         0  \n",
       " 1         0         0         0         0  \n",
       " 2         0         0         0         0  \n",
       " 3         0         0         0         0  \n",
       " 4         0         0         0         0  \n",
       " \n",
       " [5 rows x 784 columns])"
      ]
     },
     "execution_count": 2,
     "metadata": {},
     "output_type": "execute_result"
    }
   ],
   "source": [
    "train_df = pd.read_csv(files[1])\n",
    "test_df = pd.read_csv(files[2])\n",
    "train_df.head(), test_df.head()"
   ]
  },
  {
   "cell_type": "code",
   "execution_count": 3,
   "id": "3806d6a7",
   "metadata": {
    "execution": {
     "iopub.execute_input": "2023-10-09T13:52:20.938203Z",
     "iopub.status.busy": "2023-10-09T13:52:20.937932Z",
     "iopub.status.idle": "2023-10-09T13:52:21.119912Z",
     "shell.execute_reply": "2023-10-09T13:52:21.118949Z"
    },
    "papermill": {
     "duration": 0.18942,
     "end_time": "2023-10-09T13:52:21.122126",
     "exception": false,
     "start_time": "2023-10-09T13:52:20.932706",
     "status": "completed"
    },
    "tags": []
   },
   "outputs": [],
   "source": [
    "y_train = train_df['label'].values\n",
    "x_train = train_df.drop(['label'],axis=1).values.astype('float32')\n",
    "x_test = test_df.values.astype('float32')"
   ]
  },
  {
   "cell_type": "code",
   "execution_count": 4,
   "id": "454ef4e5",
   "metadata": {
    "execution": {
     "iopub.execute_input": "2023-10-09T13:52:21.131862Z",
     "iopub.status.busy": "2023-10-09T13:52:21.131100Z",
     "iopub.status.idle": "2023-10-09T13:52:21.802251Z",
     "shell.execute_reply": "2023-10-09T13:52:21.801317Z"
    },
    "papermill": {
     "duration": 0.677858,
     "end_time": "2023-10-09T13:52:21.804297",
     "exception": false,
     "start_time": "2023-10-09T13:52:21.126439",
     "status": "completed"
    },
    "tags": []
   },
   "outputs": [
    {
     "name": "stdout",
     "output_type": "stream",
     "text": [
      "[<Axes: > <Axes: > <Axes: > <Axes: > <Axes: > <Axes: > <Axes: > <Axes: >\n",
      " <Axes: > <Axes: >]\n"
     ]
    },
    {
     "data": {
      "image/png": "[encoded data removed]",
      "text/plain": [
       "<Figure size 1200x500 with 10 Axes>"
      ]
     },
     "metadata": {},
     "output_type": "display_data"
    }
   ],
   "source": [
    "import matplotlib.pyplot as plt\n",
    "%matplotlib inline\n",
    "fig, axes = plt.subplots(2,5, figsize=(12,5))\n",
    "axes = axes.flatten()\n",
    "print(axes)\n",
    "idx = np.random.randint(0,42000,size=10)\n",
    "for i in range(10):\n",
    "    axes[i].imshow(x_train[idx[i],:].reshape(28,28), cmap='gray')\n",
    "    axes[i].axis('off') # hide the axes ticks\n",
    "    axes[i].set_title(str(int(y_train[idx[i]])), color= 'black', fontsize=25)\n",
    "plt.show()"
   ]
  },
  {
   "cell_type": "code",
   "execution_count": 5,
   "id": "9af48e66",
   "metadata": {
    "execution": {
     "iopub.execute_input": "2023-10-09T13:52:21.814744Z",
     "iopub.status.busy": "2023-10-09T13:52:21.814467Z",
     "iopub.status.idle": "2023-10-09T13:52:21.818541Z",
     "shell.execute_reply": "2023-10-09T13:52:21.817609Z"
    },
    "papermill": {
     "duration": 0.011612,
     "end_time": "2023-10-09T13:52:21.820229",
     "exception": false,
     "start_time": "2023-10-09T13:52:21.808617",
     "status": "completed"
    },
    "tags": []
   },
   "outputs": [],
   "source": [
    "import warnings\n",
    "warnings.filterwarnings('ignore')"
   ]
  },
  {
   "cell_type": "code",
   "execution_count": 6,
   "id": "1d19ed58",
   "metadata": {
    "execution": {
     "iopub.execute_input": "2023-10-09T13:52:21.829783Z",
     "iopub.status.busy": "2023-10-09T13:52:21.829078Z",
     "iopub.status.idle": "2023-10-09T13:52:21.833646Z",
     "shell.execute_reply": "2023-10-09T13:52:21.832862Z"
    },
    "papermill": {
     "duration": 0.01111,
     "end_time": "2023-10-09T13:52:21.835326",
     "exception": false,
     "start_time": "2023-10-09T13:52:21.824216",
     "status": "completed"
    },
    "tags": []
   },
   "outputs": [],
   "source": [
    "x_train = x_train.reshape(42000, 28, 28, 1)\n",
    "x_test = x_test.reshape(28000, 28, 28, 1)"
   ]
  },
  {
   "cell_type": "code",
   "execution_count": 7,
   "id": "0500d25c",
   "metadata": {
    "execution": {
     "iopub.execute_input": "2023-10-09T13:52:21.844382Z",
     "iopub.status.busy": "2023-10-09T13:52:21.844141Z",
     "iopub.status.idle": "2023-10-09T13:52:22.689220Z",
     "shell.execute_reply": "2023-10-09T13:52:22.688231Z"
    },
    "papermill": {
     "duration": 0.852081,
     "end_time": "2023-10-09T13:52:22.691477",
     "exception": false,
     "start_time": "2023-10-09T13:52:21.839396",
     "status": "completed"
    },
    "tags": []
   },
   "outputs": [],
   "source": [
    "from sklearn.preprocessing import LabelBinarizer\n",
    "label_binarizer = LabelBinarizer()\n",
    "y_train = label_binarizer.fit_transform(y_train)"
   ]
  },
  {
   "cell_type": "code",
   "execution_count": 8,
   "id": "2ac6a79e",
   "metadata": {
    "execution": {
     "iopub.execute_input": "2023-10-09T13:52:22.702009Z",
     "iopub.status.busy": "2023-10-09T13:52:22.701198Z",
     "iopub.status.idle": "2023-10-09T13:52:23.123126Z",
     "shell.execute_reply": "2023-10-09T13:52:23.122154Z"
    },
    "papermill": {
     "duration": 0.429385,
     "end_time": "2023-10-09T13:52:23.125314",
     "exception": false,
     "start_time": "2023-10-09T13:52:22.695929",
     "status": "completed"
    },
    "tags": []
   },
   "outputs": [],
   "source": [
    "from sklearn.model_selection import train_test_split\n",
    "train_images, valid_images, train_labels, valid_labels = train_test_split(x_train, y_train, train_size=0.8, random_state=42)"
   ]
  },
  {
   "cell_type": "code",
   "execution_count": 9,
   "id": "ee35453a",
   "metadata": {
    "execution": {
     "iopub.execute_input": "2023-10-09T13:52:23.135377Z",
     "iopub.status.busy": "2023-10-09T13:52:23.134550Z",
     "iopub.status.idle": "2023-10-09T13:52:23.141182Z",
     "shell.execute_reply": "2023-10-09T13:52:23.140314Z"
    },
    "papermill": {
     "duration": 0.013195,
     "end_time": "2023-10-09T13:52:23.142911",
     "exception": false,
     "start_time": "2023-10-09T13:52:23.129716",
     "status": "completed"
    },
    "tags": []
   },
   "outputs": [
    {
     "data": {
      "text/plain": [
       "((33600, 28, 28, 1), (8400, 28, 28, 1), (33600, 10), (8400, 10))"
      ]
     },
     "execution_count": 9,
     "metadata": {},
     "output_type": "execute_result"
    }
   ],
   "source": [
    "train_images.shape, valid_images.shape, train_labels.shape, valid_labels.shape"
   ]
  },
  {
   "cell_type": "code",
   "execution_count": 10,
   "id": "b0a26d0d",
   "metadata": {
    "execution": {
     "iopub.execute_input": "2023-10-09T13:52:23.152763Z",
     "iopub.status.busy": "2023-10-09T13:52:23.152058Z",
     "iopub.status.idle": "2023-10-09T13:52:23.360451Z",
     "shell.execute_reply": "2023-10-09T13:52:23.359552Z"
    },
    "papermill": {
     "duration": 0.215414,
     "end_time": "2023-10-09T13:52:23.362533",
     "exception": false,
     "start_time": "2023-10-09T13:52:23.147119",
     "status": "completed"
    },
    "tags": []
   },
   "outputs": [
    {
     "name": "stdout",
     "output_type": "stream",
     "text": [
      "[0 1 0 0 0 0 0 0 0 0]\n"
     ]
    },
    {
     "data": {
      "image/png": "[encoded data removed]",
      "text/plain": [
       "<Figure size 640x480 with 1 Axes>"
      ]
     },
     "metadata": {},
     "output_type": "display_data"
    }
   ],
   "source": [
    "idx = 16\n",
    "plt.imshow(train_images[idx,:,:,:].reshape(28, 28), cmap='gray')\n",
    "print(train_labels[idx, :])\n",
    "plt.show()"
   ]
  },
  {
   "cell_type": "code",
   "execution_count": 11,
   "id": "77401fb0",
   "metadata": {
    "execution": {
     "iopub.execute_input": "2023-10-09T13:52:23.372375Z",
     "iopub.status.busy": "2023-10-09T13:52:23.372121Z",
     "iopub.status.idle": "2023-10-09T13:52:31.191044Z",
     "shell.execute_reply": "2023-10-09T13:52:31.189951Z"
    },
    "papermill": {
     "duration": 7.82625,
     "end_time": "2023-10-09T13:52:31.193218",
     "exception": false,
     "start_time": "2023-10-09T13:52:23.366968",
     "status": "completed"
    },
    "tags": []
   },
   "outputs": [],
   "source": [
    "from tensorflow.keras.preprocessing.image import ImageDataGenerator\n",
    "train_datagen = ImageDataGenerator(rescale=1./255,\n",
    "                                      rotation_range=40,\n",
    "                                      width_shift_range=0.2,\n",
    "                                      height_shift_range=0.2,\n",
    "                                      shear_range=0.2,\n",
    "                                      zoom_range=0.2,\n",
    "                                      horizontal_flip=True,\n",
    "                                      fill_mode='nearest')\n",
    "\n",
    "train_datagen.fit(train_images)\n",
    "train_generator = train_datagen.flow(x=train_images,\n",
    "                                       y=train_labels,\n",
    "                                       batch_size=32)\n",
    "\n",
    "validation_datagen = ImageDataGenerator(rescale=1./255)\n",
    "\n",
    "validation_generator = validation_datagen.flow(x=valid_images,\n",
    "                                                 y=valid_labels,\n",
    "                                                 batch_size=32)"
   ]
  },
  {
   "cell_type": "code",
   "execution_count": 12,
   "id": "aa78021b",
   "metadata": {
    "execution": {
     "iopub.execute_input": "2023-10-09T13:52:31.204241Z",
     "iopub.status.busy": "2023-10-09T13:52:31.203260Z",
     "iopub.status.idle": "2023-10-09T13:52:31.209415Z",
     "shell.execute_reply": "2023-10-09T13:52:31.208525Z"
    },
    "papermill": {
     "duration": 0.013024,
     "end_time": "2023-10-09T13:52:31.211168",
     "exception": false,
     "start_time": "2023-10-09T13:52:31.198144",
     "status": "completed"
    },
    "tags": []
   },
   "outputs": [
    {
     "name": "stdout",
     "output_type": "stream",
     "text": [
      "Images of training generator have shape: (33600, 28, 28, 1)\n",
      "Labels of training generator have shape: (33600, 10)\n",
      "Images of validation generator have shape: (8400, 28, 28, 1)\n",
      "Labels of validation generator have shape: (8400, 10)\n"
     ]
    }
   ],
   "source": [
    "print(f\"Images of training generator have shape: {train_generator.x.shape}\")\n",
    "print(f\"Labels of training generator have shape: {train_generator.y.shape}\")\n",
    "print(f\"Images of validation generator have shape: {validation_generator.x.shape}\")\n",
    "print(f\"Labels of validation generator have shape: {validation_generator.y.shape}\")"
   ]
  },
  {
   "cell_type": "code",
   "execution_count": 13,
   "id": "12a3d399",
   "metadata": {
    "execution": {
     "iopub.execute_input": "2023-10-09T13:52:31.220869Z",
     "iopub.status.busy": "2023-10-09T13:52:31.220604Z",
     "iopub.status.idle": "2023-10-09T13:52:31.226295Z",
     "shell.execute_reply": "2023-10-09T13:52:31.225428Z"
    },
    "papermill": {
     "duration": 0.012462,
     "end_time": "2023-10-09T13:52:31.227911",
     "exception": false,
     "start_time": "2023-10-09T13:52:31.215449",
     "status": "completed"
    },
    "tags": []
   },
   "outputs": [],
   "source": [
    "import tensorflow as tf\n",
    "from tensorflow.keras import layers,models\n",
    "def my_model():\n",
    "    model = models.Sequential([\n",
    "        layers.Conv2D(16,(3,3),activation='relu',input_shape=(28,28,1)),\n",
    "        layers.MaxPooling2D(2,2),\n",
    "        layers.Conv2D(32,(3,3),activation='relu'),\n",
    "        layers.MaxPooling2D(2,2),\n",
    "        layers.Conv2D(64,(3,3),activation='relu'),\n",
    "        layers.MaxPooling2D(2,2),\n",
    "        layers.Flatten(),\n",
    "        layers.Dense(512,activation='relu'),\n",
    "        layers.Dense(10,activation='softmax')\n",
    "    ])\n",
    "    model.summary()\n",
    "    model.compile(loss='categorical_crossentropy', optimizer='adam',metrics=['accuracy'])\n",
    "    \n",
    "    return model"
   ]
  },
  {
   "cell_type": "code",
   "execution_count": 14,
   "id": "2907450f",
   "metadata": {
    "execution": {
     "iopub.execute_input": "2023-10-09T13:52:31.238043Z",
     "iopub.status.busy": "2023-10-09T13:52:31.237351Z",
     "iopub.status.idle": "2023-10-09T13:52:31.242216Z",
     "shell.execute_reply": "2023-10-09T13:52:31.241473Z"
    },
    "papermill": {
     "duration": 0.01157,
     "end_time": "2023-10-09T13:52:31.243751",
     "exception": false,
     "start_time": "2023-10-09T13:52:31.232181",
     "status": "completed"
    },
    "tags": []
   },
   "outputs": [],
   "source": [
    "import tensorflow as tf\n",
    "checkpoint_callback = tf.keras.callbacks.ModelCheckpoint('model_weights.h5', \n",
    "                                                        save_best_only=True,  # Save only the best weights\n",
    "                                                        save_weights_only=True,  # Save only the weights, not the entire model\n",
    "                                                        monitor='val_loss',  # You can monitor a different metric if needed\n",
    "                                                        mode='min',  # Save the weights when the monitored metric is minimized\n",
    "                                                        verbose=1)"
   ]
  },
  {
   "cell_type": "code",
   "execution_count": 15,
   "id": "08fed6d3",
   "metadata": {
    "execution": {
     "iopub.execute_input": "2023-10-09T13:52:31.253162Z",
     "iopub.status.busy": "2023-10-09T13:52:31.252702Z",
     "iopub.status.idle": "2023-10-09T13:52:31.476583Z",
     "shell.execute_reply": "2023-10-09T13:52:31.475555Z"
    },
    "papermill": {
     "duration": 0.230391,
     "end_time": "2023-10-09T13:52:31.478344",
     "exception": false,
     "start_time": "2023-10-09T13:52:31.247953",
     "status": "completed"
    },
    "tags": []
   },
   "outputs": [
    {
     "name": "stdout",
     "output_type": "stream",
     "text": [
      "Name: /physical_device:GPU:0   Type: GPU\n"
     ]
    }
   ],
   "source": [
    "gpus = tf.config.experimental.list_physical_devices('GPU')\n",
    "for gpu in gpus:\n",
    "    print(\"Name:\", gpu.name, \"  Type:\", gpu.device_type)"
   ]
  },
  {
   "cell_type": "code",
   "execution_count": 16,
   "id": "cff6caef",
   "metadata": {
    "execution": {
     "iopub.execute_input": "2023-10-09T13:52:31.488907Z",
     "iopub.status.busy": "2023-10-09T13:52:31.488099Z",
     "iopub.status.idle": "2023-10-09T14:02:55.693548Z",
     "shell.execute_reply": "2023-10-09T14:02:55.692567Z"
    },
    "papermill": {
     "duration": 624.213112,
     "end_time": "2023-10-09T14:02:55.695906",
     "exception": false,
     "start_time": "2023-10-09T13:52:31.482794",
     "status": "completed"
    },
    "tags": []
   },
   "outputs": [
    {
     "name": "stdout",
     "output_type": "stream",
     "text": [
      "Model: \"sequential\"\n",
      "_________________________________________________________________\n",
      " Layer (type)                Output Shape              Param #   \n",
      "=================================================================\n",
      " conv2d (Conv2D)             (None, 26, 26, 16)        160       \n",
      "                                                                 \n",
      " max_pooling2d (MaxPooling2D  (None, 13, 13, 16)       0         \n",
      " )                                                               \n",
      "                                                                 \n",
      " conv2d_1 (Conv2D)           (None, 11, 11, 32)        4640      \n",
      "                                                                 \n",
      " max_pooling2d_1 (MaxPooling  (None, 5, 5, 32)         0         \n",
      " 2D)                                                             \n",
      "                                                                 \n",
      " conv2d_2 (Conv2D)           (None, 3, 3, 64)          18496     \n",
      "                                                                 \n",
      " max_pooling2d_2 (MaxPooling  (None, 1, 1, 64)         0         \n",
      " 2D)                                                             \n",
      "                                                                 \n",
      " flatten (Flatten)           (None, 64)                0         \n",
      "                                                                 \n",
      " dense (Dense)               (None, 512)               33280     \n",
      "                                                                 \n",
      " dense_1 (Dense)             (None, 10)                5130      \n",
      "                                                                 \n",
      "=================================================================\n",
      "Total params: 61,706\n",
      "Trainable params: 61,706\n",
      "Non-trainable params: 0\n",
      "_________________________________________________________________\n",
      "Epoch 1/35\n",
      "1047/1050 [============================>.] - ETA: 0s - loss: 1.4567 - accuracy: 0.4839\n",
      "Epoch 1: val_loss improved from inf to 0.67936, saving model to model_weights.h5\n",
      "1050/1050 [==============================] - 26s 16ms/step - loss: 1.4561 - accuracy: 0.4843 - val_loss: 0.6794 - val_accuracy: 0.7895\n",
      "Epoch 2/35\n",
      "1047/1050 [============================>.] - ETA: 0s - loss: 0.9973 - accuracy: 0.6610\n",
      "Epoch 2: val_loss improved from 0.67936 to 0.46989, saving model to model_weights.h5\n",
      "1050/1050 [==============================] - 16s 16ms/step - loss: 0.9969 - accuracy: 0.6612 - val_loss: 0.4699 - val_accuracy: 0.8596\n",
      "Epoch 3/35\n",
      "1049/1050 [============================>.] - ETA: 0s - loss: 0.8173 - accuracy: 0.7243\n",
      "Epoch 3: val_loss improved from 0.46989 to 0.40947, saving model to model_weights.h5\n",
      "1050/1050 [==============================] - 17s 16ms/step - loss: 0.8176 - accuracy: 0.7242 - val_loss: 0.4095 - val_accuracy: 0.8776\n",
      "Epoch 4/35\n",
      "1048/1050 [============================>.] - ETA: 0s - loss: 0.7236 - accuracy: 0.7582\n",
      "Epoch 4: val_loss improved from 0.40947 to 0.33334, saving model to model_weights.h5\n",
      "1050/1050 [==============================] - 17s 16ms/step - loss: 0.7234 - accuracy: 0.7583 - val_loss: 0.3333 - val_accuracy: 0.8948\n",
      "Epoch 5/35\n",
      "1048/1050 [============================>.] - ETA: 0s - loss: 0.6718 - accuracy: 0.7779\n",
      "Epoch 5: val_loss improved from 0.33334 to 0.29761, saving model to model_weights.h5\n",
      "1050/1050 [==============================] - 16s 15ms/step - loss: 0.6721 - accuracy: 0.7778 - val_loss: 0.2976 - val_accuracy: 0.9042\n",
      "Epoch 6/35\n",
      "1048/1050 [============================>.] - ETA: 0s - loss: 0.6111 - accuracy: 0.7957\n",
      "Epoch 6: val_loss did not improve from 0.29761\n",
      "1050/1050 [==============================] - 17s 16ms/step - loss: 0.6115 - accuracy: 0.7955 - val_loss: 0.3175 - val_accuracy: 0.8988\n",
      "Epoch 7/35\n",
      "1050/1050 [==============================] - ETA: 0s - loss: 0.5711 - accuracy: 0.8099\n",
      "Epoch 7: val_loss did not improve from 0.29761\n",
      "1050/1050 [==============================] - 16s 15ms/step - loss: 0.5711 - accuracy: 0.8099 - val_loss: 0.3641 - val_accuracy: 0.8870\n",
      "Epoch 8/35\n",
      "1048/1050 [============================>.] - ETA: 0s - loss: 0.5490 - accuracy: 0.8203\n",
      "Epoch 8: val_loss did not improve from 0.29761\n",
      "1050/1050 [==============================] - 16s 16ms/step - loss: 0.5492 - accuracy: 0.8204 - val_loss: 0.3274 - val_accuracy: 0.8927\n",
      "Epoch 9/35\n",
      "1047/1050 [============================>.] - ETA: 0s - loss: 0.5192 - accuracy: 0.8298\n",
      "Epoch 9: val_loss improved from 0.29761 to 0.25640, saving model to model_weights.h5\n",
      "1050/1050 [==============================] - 15s 15ms/step - loss: 0.5192 - accuracy: 0.8298 - val_loss: 0.2564 - val_accuracy: 0.9150\n",
      "Epoch 10/35\n",
      "1049/1050 [============================>.] - ETA: 0s - loss: 0.4941 - accuracy: 0.8381\n",
      "Epoch 10: val_loss improved from 0.25640 to 0.21955, saving model to model_weights.h5\n",
      "1050/1050 [==============================] - 18s 17ms/step - loss: 0.4940 - accuracy: 0.8381 - val_loss: 0.2195 - val_accuracy: 0.9262\n",
      "Epoch 11/35\n",
      "1048/1050 [============================>.] - ETA: 0s - loss: 0.4741 - accuracy: 0.8435\n",
      "Epoch 11: val_loss did not improve from 0.21955\n",
      "1050/1050 [==============================] - 17s 16ms/step - loss: 0.4738 - accuracy: 0.8436 - val_loss: 0.2332 - val_accuracy: 0.9240\n",
      "Epoch 12/35\n",
      "1050/1050 [==============================] - ETA: 0s - loss: 0.4646 - accuracy: 0.8481\n",
      "Epoch 12: val_loss improved from 0.21955 to 0.21815, saving model to model_weights.h5\n",
      "1050/1050 [==============================] - 17s 16ms/step - loss: 0.4646 - accuracy: 0.8481 - val_loss: 0.2182 - val_accuracy: 0.9302\n",
      "Epoch 13/35\n",
      "1050/1050 [==============================] - ETA: 0s - loss: 0.4493 - accuracy: 0.8534\n",
      "Epoch 13: val_loss did not improve from 0.21815\n",
      "1050/1050 [==============================] - 17s 16ms/step - loss: 0.4493 - accuracy: 0.8534 - val_loss: 0.2202 - val_accuracy: 0.9308\n",
      "Epoch 14/35\n",
      "1049/1050 [============================>.] - ETA: 0s - loss: 0.4387 - accuracy: 0.8540\n",
      "Epoch 14: val_loss did not improve from 0.21815\n",
      "1050/1050 [==============================] - 16s 15ms/step - loss: 0.4386 - accuracy: 0.8540 - val_loss: 0.2388 - val_accuracy: 0.9239\n",
      "Epoch 15/35\n",
      "1047/1050 [============================>.] - ETA: 0s - loss: 0.4304 - accuracy: 0.8579\n",
      "Epoch 15: val_loss improved from 0.21815 to 0.21039, saving model to model_weights.h5\n",
      "1050/1050 [==============================] - 17s 16ms/step - loss: 0.4304 - accuracy: 0.8578 - val_loss: 0.2104 - val_accuracy: 0.9344\n",
      "Epoch 16/35\n",
      "1048/1050 [============================>.] - ETA: 0s - loss: 0.4234 - accuracy: 0.8633\n",
      "Epoch 16: val_loss improved from 0.21039 to 0.17286, saving model to model_weights.h5\n",
      "1050/1050 [==============================] - 16s 15ms/step - loss: 0.4233 - accuracy: 0.8633 - val_loss: 0.1729 - val_accuracy: 0.9469\n",
      "Epoch 17/35\n",
      "1047/1050 [============================>.] - ETA: 0s - loss: 0.4138 - accuracy: 0.8640\n",
      "Epoch 17: val_loss did not improve from 0.17286\n",
      "1050/1050 [==============================] - 17s 16ms/step - loss: 0.4139 - accuracy: 0.8638 - val_loss: 0.1945 - val_accuracy: 0.9376\n",
      "Epoch 18/35\n",
      "1047/1050 [============================>.] - ETA: 0s - loss: 0.4040 - accuracy: 0.8685\n",
      "Epoch 18: val_loss did not improve from 0.17286\n",
      "1050/1050 [==============================] - 16s 15ms/step - loss: 0.4042 - accuracy: 0.8685 - val_loss: 0.2318 - val_accuracy: 0.9194\n",
      "Epoch 19/35\n",
      "1047/1050 [============================>.] - ETA: 0s - loss: 0.4052 - accuracy: 0.8691\n",
      "Epoch 19: val_loss did not improve from 0.17286\n",
      "1050/1050 [==============================] - 17s 16ms/step - loss: 0.4048 - accuracy: 0.8692 - val_loss: 0.1879 - val_accuracy: 0.9415\n",
      "Epoch 20/35\n",
      "1049/1050 [============================>.] - ETA: 0s - loss: 0.3994 - accuracy: 0.8677\n",
      "Epoch 20: val_loss did not improve from 0.17286\n",
      "1050/1050 [==============================] - 16s 15ms/step - loss: 0.3991 - accuracy: 0.8678 - val_loss: 0.2089 - val_accuracy: 0.9382\n",
      "Epoch 21/35\n",
      "1048/1050 [============================>.] - ETA: 0s - loss: 0.3836 - accuracy: 0.8751\n",
      "Epoch 21: val_loss did not improve from 0.17286\n",
      "1050/1050 [==============================] - 16s 15ms/step - loss: 0.3841 - accuracy: 0.8749 - val_loss: 0.1817 - val_accuracy: 0.9425\n",
      "Epoch 22/35\n",
      "1047/1050 [============================>.] - ETA: 0s - loss: 0.3876 - accuracy: 0.8733\n",
      "Epoch 22: val_loss improved from 0.17286 to 0.15502, saving model to model_weights.h5\n",
      "1050/1050 [==============================] - 16s 15ms/step - loss: 0.3876 - accuracy: 0.8735 - val_loss: 0.1550 - val_accuracy: 0.9533\n",
      "Epoch 23/35\n",
      "1050/1050 [==============================] - ETA: 0s - loss: 0.3812 - accuracy: 0.8768\n",
      "Epoch 23: val_loss did not improve from 0.15502\n",
      "1050/1050 [==============================] - 16s 15ms/step - loss: 0.3812 - accuracy: 0.8768 - val_loss: 0.1559 - val_accuracy: 0.9530\n",
      "Epoch 24/35\n",
      "1048/1050 [============================>.] - ETA: 0s - loss: 0.3701 - accuracy: 0.8786\n",
      "Epoch 24: val_loss did not improve from 0.15502\n",
      "1050/1050 [==============================] - 17s 16ms/step - loss: 0.3698 - accuracy: 0.8787 - val_loss: 0.1566 - val_accuracy: 0.9511\n",
      "Epoch 25/35\n",
      "1049/1050 [============================>.] - ETA: 0s - loss: 0.3679 - accuracy: 0.8795\n",
      "Epoch 25: val_loss did not improve from 0.15502\n",
      "1050/1050 [==============================] - 16s 15ms/step - loss: 0.3678 - accuracy: 0.8794 - val_loss: 0.1974 - val_accuracy: 0.9368\n",
      "Epoch 26/35\n",
      "1050/1050 [==============================] - ETA: 0s - loss: 0.3709 - accuracy: 0.8781\n",
      "Epoch 26: val_loss did not improve from 0.15502\n",
      "1050/1050 [==============================] - 17s 16ms/step - loss: 0.3709 - accuracy: 0.8781 - val_loss: 0.1781 - val_accuracy: 0.9439\n",
      "Epoch 27/35\n",
      "1047/1050 [============================>.] - ETA: 0s - loss: 0.3646 - accuracy: 0.8809\n",
      "Epoch 27: val_loss did not improve from 0.15502\n",
      "1050/1050 [==============================] - 16s 15ms/step - loss: 0.3648 - accuracy: 0.8809 - val_loss: 0.1667 - val_accuracy: 0.9499\n",
      "Epoch 28/35\n",
      "1049/1050 [============================>.] - ETA: 0s - loss: 0.3624 - accuracy: 0.8797\n",
      "Epoch 28: val_loss did not improve from 0.15502\n",
      "1050/1050 [==============================] - 16s 16ms/step - loss: 0.3622 - accuracy: 0.8798 - val_loss: 0.1697 - val_accuracy: 0.9463\n",
      "Epoch 29/35\n",
      "1050/1050 [==============================] - ETA: 0s - loss: 0.3669 - accuracy: 0.8802\n",
      "Epoch 29: val_loss improved from 0.15502 to 0.15435, saving model to model_weights.h5\n",
      "1050/1050 [==============================] - 16s 15ms/step - loss: 0.3669 - accuracy: 0.8802 - val_loss: 0.1544 - val_accuracy: 0.9523\n",
      "Epoch 30/35\n",
      "1048/1050 [============================>.] - ETA: 0s - loss: 0.3473 - accuracy: 0.8885\n",
      "Epoch 30: val_loss improved from 0.15435 to 0.13674, saving model to model_weights.h5\n",
      "1050/1050 [==============================] - 17s 16ms/step - loss: 0.3473 - accuracy: 0.8886 - val_loss: 0.1367 - val_accuracy: 0.9571\n",
      "Epoch 31/35\n",
      "1047/1050 [============================>.] - ETA: 0s - loss: 0.3532 - accuracy: 0.8847\n",
      "Epoch 31: val_loss did not improve from 0.13674\n",
      "1050/1050 [==============================] - 16s 15ms/step - loss: 0.3532 - accuracy: 0.8848 - val_loss: 0.2002 - val_accuracy: 0.9382\n",
      "Epoch 32/35\n",
      "1049/1050 [============================>.] - ETA: 0s - loss: 0.3519 - accuracy: 0.8857\n",
      "Epoch 32: val_loss did not improve from 0.13674\n",
      "1050/1050 [==============================] - 16s 15ms/step - loss: 0.3516 - accuracy: 0.8857 - val_loss: 0.1435 - val_accuracy: 0.9569\n",
      "Epoch 33/35\n",
      "1047/1050 [============================>.] - ETA: 0s - loss: 0.3490 - accuracy: 0.8842\n",
      "Epoch 33: val_loss did not improve from 0.13674\n",
      "1050/1050 [==============================] - 16s 15ms/step - loss: 0.3490 - accuracy: 0.8841 - val_loss: 0.1774 - val_accuracy: 0.9452\n",
      "Epoch 34/35\n",
      "1048/1050 [============================>.] - ETA: 0s - loss: 0.3421 - accuracy: 0.8892\n",
      "Epoch 34: val_loss did not improve from 0.13674\n",
      "1050/1050 [==============================] - 16s 16ms/step - loss: 0.3423 - accuracy: 0.8892 - val_loss: 0.1932 - val_accuracy: 0.9377\n",
      "Epoch 35/35\n",
      "1048/1050 [============================>.] - ETA: 0s - loss: 0.3428 - accuracy: 0.8873\n",
      "Epoch 35: val_loss did not improve from 0.13674\n",
      "1050/1050 [==============================] - 17s 16ms/step - loss: 0.3426 - accuracy: 0.8873 - val_loss: 0.1509 - val_accuracy: 0.9548\n"
     ]
    }
   ],
   "source": [
    "model = my_model()\n",
    "# Train your model\n",
    "with tf.device('GPU:0'):\n",
    "    history = model.fit(train_generator,\n",
    "                    epochs=35,\n",
    "                    validation_data=validation_generator,\n",
    "                    callbacks=[checkpoint_callback])\n",
    "#history.log()"
   ]
  },
  {
   "cell_type": "code",
   "execution_count": 17,
   "id": "84b5c695",
   "metadata": {
    "execution": {
     "iopub.execute_input": "2023-10-09T14:02:57.003121Z",
     "iopub.status.busy": "2023-10-09T14:02:57.002653Z",
     "iopub.status.idle": "2023-10-09T14:02:57.733907Z",
     "shell.execute_reply": "2023-10-09T14:02:57.732914Z"
    },
    "papermill": {
     "duration": 1.555871,
     "end_time": "2023-10-09T14:02:57.735907",
     "exception": false,
     "start_time": "2023-10-09T14:02:56.180036",
     "status": "completed"
    },
    "tags": []
   },
   "outputs": [
    {
     "data": {
      "image/png": "[encoded data removed]",
      "text/plain": [
       "<Figure size 640x480 with 1 Axes>"
      ]
     },
     "metadata": {},
     "output_type": "display_data"
    },
    {
     "data": {
      "image/png": "[encoded data removed]",
      "text/plain": [
       "<Figure size 640x480 with 1 Axes>"
      ]
     },
     "metadata": {},
     "output_type": "display_data"
    }
   ],
   "source": [
    "# Plot the chart for accuracy and loss on both training and validation\n",
    "acc = history.history['accuracy']\n",
    "val_acc = history.history['val_accuracy']\n",
    "loss = history.history['loss']\n",
    "val_loss = history.history['val_loss']\n",
    "\n",
    "epochs = range(len(acc))\n",
    "\n",
    "plt.plot(epochs, acc, 'r', label='Training accuracy')\n",
    "plt.plot(epochs, val_acc, 'b', label='Validation accuracy')\n",
    "plt.title('Training and validation accuracy')\n",
    "plt.legend()\n",
    "plt.figure()\n",
    "\n",
    "plt.plot(epochs, loss, 'r', label='Training Loss')\n",
    "plt.plot(epochs, val_loss, 'b', label='Validation Loss')\n",
    "plt.title('Training and validation loss')\n",
    "plt.legend()\n",
    "\n",
    "plt.show()\n"
   ]
  },
  {
   "cell_type": "code",
   "execution_count": 18,
   "id": "b34ef935",
   "metadata": {
    "execution": {
     "iopub.execute_input": "2023-10-09T14:02:58.676586Z",
     "iopub.status.busy": "2023-10-09T14:02:58.676124Z",
     "iopub.status.idle": "2023-10-09T14:03:01.590919Z",
     "shell.execute_reply": "2023-10-09T14:03:01.589864Z"
    },
    "papermill": {
     "duration": 3.348388,
     "end_time": "2023-10-09T14:03:01.593163",
     "exception": false,
     "start_time": "2023-10-09T14:02:58.244775",
     "status": "completed"
    },
    "tags": []
   },
   "outputs": [
    {
     "name": "stdout",
     "output_type": "stream",
     "text": [
      "875/875 [==============================] - 1s 2ms/step\n"
     ]
    }
   ],
   "source": [
    "test_predictions = model.predict(x_test)\n"
   ]
  },
  {
   "cell_type": "code",
   "execution_count": 19,
   "id": "b4f36650",
   "metadata": {
    "execution": {
     "iopub.execute_input": "2023-10-09T14:03:02.489390Z",
     "iopub.status.busy": "2023-10-09T14:03:02.489032Z",
     "iopub.status.idle": "2023-10-09T14:03:03.642254Z",
     "shell.execute_reply": "2023-10-09T14:03:03.641351Z"
    },
    "papermill": {
     "duration": 1.584178,
     "end_time": "2023-10-09T14:03:03.644052",
     "exception": false,
     "start_time": "2023-10-09T14:03:02.059874",
     "status": "completed"
    },
    "tags": []
   },
   "outputs": [
    {
     "data": {
      "image/png": "[encoded data removed]",
      "text/plain": [
       "<Figure size 640x480 with 1 Axes>"
      ]
     },
     "metadata": {},
     "output_type": "display_data"
    },
    {
     "data": {
      "image/png": "[encoded data removed]",
      "text/plain": [
       "<Figure size 640x480 with 1 Axes>"
      ]
     },
     "metadata": {},
     "output_type": "display_data"
    },
    {
     "data": {
      "image/png": "[encoded data removed]",
      "text/plain": [
       "<Figure size 640x480 with 1 Axes>"
      ]
     },
     "metadata": {},
     "output_type": "display_data"
    },
    {
     "data": {
      "image/png": "[encoded data removed]",
      "text/plain": [
       "<Figure size 640x480 with 1 Axes>"
      ]
     },
     "metadata": {},
     "output_type": "display_data"
    },
    {
     "data": {
      "image/png": "[encoded data removed]",
      "text/plain": [
       "<Figure size 640x480 with 1 Axes>"
      ]
     },
     "metadata": {},
     "output_type": "display_data"
    }
   ],
   "source": [
    "import random\n",
    "import matplotlib.pyplot as plt\n",
    "\n",
    "# Randomly select some samples\n",
    "sample_indices = random.sample(range(len(x_test)), 5)\n",
    "\n",
    "for idx in sample_indices:\n",
    "    image = x_test[idx]  # Assuming 'test_data' is a list of images\n",
    "    predicted_labels = test_predictions[idx]  # Corresponding predicted label\n",
    "    predicted_label = np.argmax(predicted_labels)\n",
    "    # Display the image and predicted label\n",
    "    plt.imshow(image, cmap='gray')\n",
    "    plt.title(f'Predicted Label: {predicted_label}')\n",
    "    plt.show()\n"
   ]
  },
  {
   "cell_type": "code",
   "execution_count": 20,
   "id": "17bbe634",
   "metadata": {
    "execution": {
     "iopub.execute_input": "2023-10-09T14:03:04.536309Z",
     "iopub.status.busy": "2023-10-09T14:03:04.535971Z",
     "iopub.status.idle": "2023-10-09T14:03:04.565880Z",
     "shell.execute_reply": "2023-10-09T14:03:04.564977Z"
    },
    "papermill": {
     "duration": 0.503816,
     "end_time": "2023-10-09T14:03:04.567711",
     "exception": false,
     "start_time": "2023-10-09T14:03:04.063895",
     "status": "completed"
    },
    "tags": []
   },
   "outputs": [],
   "source": [
    "import pickle\n",
    "model.load_weights('model_weights.h5')\n",
    "\n",
    "# Now, you can save the model weights to a pickle file\n",
    "with open('model_weights.pkl', 'wb') as file:\n",
    "    pickle.dump(model.get_weights(), file)\n"
   ]
  }
 ],
 "metadata": {
  "kernelspec": {
   "display_name": "Python 3",
   "language": "python",
   "name": "python3"
  },
  "language_info": {
   "codemirror_mode": {
    "name": "ipython",
    "version": 3
   },
   "file_extension": ".py",
   "mimetype": "text/x-python",
   "name": "python",
   "nbconvert_exporter": "python",
   "pygments_lexer": "ipython3",
   "version": "3.10.12"
  },
  "papermill": {
   "default_parameters": {},
   "duration": 661.13596,
   "end_time": "2023-10-09T14:03:08.895926",
   "environment_variables": {},
   "exception": null,
   "input_path": "__notebook__.ipynb",
   "output_path": "__notebook__.ipynb",
   "parameters": {},
   "start_time": "2023-10-09T13:52:07.759966",
   "version": "2.4.0"
  }
 },
 "nbformat": 4,
 "nbformat_minor": 5
}
